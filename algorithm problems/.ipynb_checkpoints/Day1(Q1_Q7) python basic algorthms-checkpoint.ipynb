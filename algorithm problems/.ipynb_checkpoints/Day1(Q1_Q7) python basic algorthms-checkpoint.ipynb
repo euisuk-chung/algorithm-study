{
 "cells": [
  {
   "cell_type": "markdown",
   "metadata": {},
   "source": [
    "## 리스트의 삭제\n",
    "**Q1 . 다음 리스트에서 400, 500를 삭제하는 code를 입력하세요.**"
   ]
  },
  {
   "cell_type": "code",
   "execution_count": 3,
   "metadata": {},
   "outputs": [],
   "source": [
    "nums = [100, 200, 300, 400, 500]"
   ]
  },
  {
   "cell_type": "code",
   "execution_count": 2,
   "metadata": {},
   "outputs": [
    {
     "name": "stdout",
     "output_type": "stream",
     "text": [
      "[100, 200, 300]\n"
     ]
    }
   ],
   "source": [
    "# sol1\n",
    "nums.pop()\n",
    "nums.pop()\n",
    "print(nums)"
   ]
  },
  {
   "cell_type": "code",
   "execution_count": 4,
   "metadata": {},
   "outputs": [
    {
     "data": {
      "text/plain": [
       "[100, 200, 300]"
      ]
     },
     "execution_count": 4,
     "metadata": {},
     "output_type": "execute_result"
    }
   ],
   "source": [
    "# sol2\n",
    "nums[:3]"
   ]
  },
  {
   "cell_type": "markdown",
   "metadata": {},
   "source": [
    "### 출제의도\n",
    "- list의 pop은 끝의 원소를 빼주는 함수로 500, 400이 끝단에 위치함으로 pop함수를 통해 400, 500을 삭제할 수 있다\n",
    "- list.pop([i]) : 리스트에서 주어진 위치에 있는 항목을 삭제하고, 그 항목을 돌려준다. 인덱스를 지정하지 않으면, a.pop() 은 리스트의 마지막 항목을 삭제하고 돌려준다. "
   ]
  },
  {
   "cell_type": "markdown",
   "metadata": {},
   "source": [
    "## 리스트의 내장함수\n",
    "**Q2. \"pass\"부분에 리스트 내장함수를 insert를 이용하여 코드를 입력하고 다음과 같이 출력되게 하세요.**\n",
    "\n",
    "``` python\n",
    "## 입력\n",
    "l = [200, 100, 300]\n",
    "<pass>\n",
    "print(l)\n",
    "\n",
    "## 출력\n",
    "[200, 100, 10000, 300]\n",
    "```\n"
   ]
  },
  {
   "cell_type": "code",
   "execution_count": 8,
   "metadata": {},
   "outputs": [
    {
     "name": "stdout",
     "output_type": "stream",
     "text": [
      "[200, 100, 300]\n"
     ]
    }
   ],
   "source": [
    "l = [200, 100, 300]\n",
    "print(l)"
   ]
  },
  {
   "cell_type": "code",
   "execution_count": 9,
   "metadata": {},
   "outputs": [
    {
     "name": "stdout",
     "output_type": "stream",
     "text": [
      "[200, 100, 10000, 300]\n"
     ]
    }
   ],
   "source": [
    "l.insert(2, 10000)\n",
    "print(l)"
   ]
  },
  {
   "cell_type": "markdown",
   "metadata": {},
   "source": [
    "### 출제의도\n",
    "- list.insert(i, x) : 주어진 위치 i에 항목 x를 삽입한다. \n",
    "- a.insert(0, x)는 리스트의 처음에 삽입한다.\n",
    "- a.insert(len(a), x)는 a.append(x)와 동등하다."
   ]
  },
  {
   "cell_type": "markdown",
   "metadata": {},
   "source": [
    "## 변수의 타입\n",
    "**Q3. 다음의 출력값으로 옳은 것은?**\n",
    "``` python\n",
    "l = [100, 200, 300]\n",
    "print(type(l))\n",
    "```\n",
    "(1)  class 'str'\n",
    "(2)  class 'int'\n",
    "(3)  class 'list'\n",
    "(4)  class 'tuple'\n",
    "\n",
    "--- \n",
    "**정답** 3번"
   ]
  },
  {
   "cell_type": "code",
   "execution_count": 18,
   "metadata": {},
   "outputs": [
    {
     "name": "stdout",
     "output_type": "stream",
     "text": [
      "<class 'list'>\n"
     ]
    }
   ],
   "source": [
    "l = [100, 200, 300]\n",
    "print(type(l))"
   ]
  },
  {
   "cell_type": "markdown",
   "metadata": {},
   "source": [
    "### 변수의 타입\n",
    "**Q4. 다음 변수 a를 print(type(a))로 넣었을 때 출력될 값과의 연결이 알맞지 않은 것은?**\n",
    "\n",
    "(1)  입력 : a =1,   출력 : class 'int'\n",
    "\n",
    "(2)  입력 : a = 2.22,   출력 : class 'float'\n",
    "\n",
    "(3)  입력 : a = 'p',   출력 : class 'char'\n",
    "\n",
    "(4)  입력 : a = [1, 2, 3],   출력 : class 'list'\n",
    "\n",
    "---\n",
    "**정답** 3번"
   ]
  },
  {
   "cell_type": "code",
   "execution_count": 13,
   "metadata": {},
   "outputs": [
    {
     "name": "stdout",
     "output_type": "stream",
     "text": [
      "<class 'int'>\n"
     ]
    }
   ],
   "source": [
    "a=1\n",
    "print(type(a))"
   ]
  },
  {
   "cell_type": "code",
   "execution_count": 14,
   "metadata": {},
   "outputs": [
    {
     "name": "stdout",
     "output_type": "stream",
     "text": [
      "<class 'float'>\n"
     ]
    }
   ],
   "source": [
    "a=2.22\n",
    "print(type(a))"
   ]
  },
  {
   "cell_type": "code",
   "execution_count": 15,
   "metadata": {},
   "outputs": [
    {
     "name": "stdout",
     "output_type": "stream",
     "text": [
      "<class 'str'>\n"
     ]
    }
   ],
   "source": [
    "a='p'\n",
    "print(type(a))"
   ]
  },
  {
   "cell_type": "code",
   "execution_count": 16,
   "metadata": {},
   "outputs": [
    {
     "name": "stdout",
     "output_type": "stream",
     "text": [
      "<class 'list'>\n"
     ]
    }
   ],
   "source": [
    "a=[1,2,3]\n",
    "print(type(a))"
   ]
  },
  {
   "cell_type": "markdown",
   "metadata": {},
   "source": [
    "### for문\n",
    "**Q5. 다음 코드의 출력 값으로 알맞은 것은?**\n",
    "```python\n",
    "\n",
    "a = 10\n",
    "b = 2\n",
    "\n",
    "for i in range(1, 5, 2): # [1,3]\n",
    "    a += i # 10 + 1 + 3\n",
    "\n",
    "print(a+b) # 14 + 2 = 16\n",
    "```"
   ]
  },
  {
   "cell_type": "code",
   "execution_count": 17,
   "metadata": {},
   "outputs": [
    {
     "name": "stdout",
     "output_type": "stream",
     "text": [
      "16\n"
     ]
    }
   ],
   "source": [
    "a = 10\n",
    "b = 2\n",
    "for i in range(1, 5, 2):\n",
    "    a += i\n",
    "\n",
    "print(a+b)"
   ]
  },
  {
   "cell_type": "markdown",
   "metadata": {},
   "source": [
    "### False\n",
    "\n",
    "**Q6. 다음은 파이썬 문법 중에서 하나를 제외하고는 모두 False로 취급하는 것들 입니다. True를 찾아주세요.**\n",
    "\n",
    "(1)  None\n",
    "\n",
    "(2)  1\n",
    "\n",
    "(3)  \"\"\n",
    "\n",
    "(4)  0\n",
    "\n",
    "(5)  bool(0)\n",
    "\n",
    "---\n",
    "\n",
    "**정답** 2번"
   ]
  },
  {
   "cell_type": "markdown",
   "metadata": {},
   "source": [
    "### 변수명\n",
    "**Q7. 다음 중 변수명으로 사용할 수 없는 것 2개를 고르시오.**\n",
    "\n",
    "(1)  age\n",
    "\n",
    "(2)  a\n",
    "\n",
    "(3)  as\n",
    "\n",
    "(4)  _age\n",
    "\n",
    "(5)  1age\n",
    "\n",
    "---\n",
    "\n",
    "**정답** 3번,5번"
   ]
  },
  {
   "cell_type": "code",
   "execution_count": null,
   "metadata": {},
   "outputs": [],
   "source": []
  }
 ],
 "metadata": {
  "kernelspec": {
   "display_name": "Python 3",
   "language": "python",
   "name": "python3"
  },
  "language_info": {
   "codemirror_mode": {
    "name": "ipython",
    "version": 3
   },
   "file_extension": ".py",
   "mimetype": "text/x-python",
   "name": "python",
   "nbconvert_exporter": "python",
   "pygments_lexer": "ipython3",
   "version": "3.6.10"
  }
 },
 "nbformat": 4,
 "nbformat_minor": 4
}
