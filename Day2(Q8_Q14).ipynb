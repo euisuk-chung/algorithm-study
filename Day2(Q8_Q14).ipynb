{
 "cells": [
  {
   "cell_type": "markdown",
   "metadata": {},
   "source": [
    "### 딕셔너리 키 이름 중복\n",
    "**Q8. 딕셔너리를 다음과 같이 만들었다. 출력값을 입력하시오.**\n",
    "\n",
    "```python\n",
    "# 입력\n",
    "d = {'height':180,'weight':78,'weight':84,'temparture':36,'eyesight':1}\n",
    "print(d['weight'])\n",
    "```\n",
    "\n",
    "```python\n",
    "# 출력\n",
    "84\n",
    "```\n"
   ]
  },
  {
   "cell_type": "code",
   "execution_count": 1,
   "metadata": {},
   "outputs": [
    {
     "name": "stdout",
     "output_type": "stream",
     "text": [
      "84\n"
     ]
    }
   ],
   "source": [
    "# 정답확인\n",
    "d = {'height':180,'weight':78,'weight':84,'temparture':36,'eyesight':1}\n",
    "print(d['weight'])"
   ]
  },
  {
   "cell_type": "markdown",
   "metadata": {},
   "source": [
    "### Sep과 End를 활용한 출력방법\n",
    "**Q9. 다음 소스코드를 완성하여 날짜와 시간을 출력하시오.**\n",
    "\n",
    "```python\n",
    "# 입력\n",
    "year = '2019'\n",
    "month = '04'\n",
    "day = '26'\n",
    "hour = '11'\n",
    "minute = '34'\n",
    "second = '27'\n",
    "\n",
    "print(year, month, day, ________)\n",
    "print(hour, minute, second, ________)\n",
    "\n",
    "# 출력\n",
    "2019/04/26 11:34:27\n",
    "```"
   ]
  },
  {
   "cell_type": "code",
   "execution_count": 3,
   "metadata": {},
   "outputs": [
    {
     "name": "stdout",
     "output_type": "stream",
     "text": [
      "2019/04/26 11:34:27\n"
     ]
    }
   ],
   "source": [
    "# Solution\n",
    "\n",
    "year = '2019'\n",
    "month = '04'\n",
    "day = '26'\n",
    "hour = '11'\n",
    "minute = '34'\n",
    "second = '27'\n",
    "\n",
    "print(year, month, day, sep='/', end=' ')\n",
    "print(hour, minute, second, sep=':')"
   ]
  },
  {
   "cell_type": "code",
   "execution_count": null,
   "metadata": {},
   "outputs": [],
   "source": []
  }
 ],
 "metadata": {
  "kernelspec": {
   "display_name": "Python 3",
   "language": "python",
   "name": "python3"
  },
  "language_info": {
   "codemirror_mode": {
    "name": "ipython",
    "version": 3
   },
   "file_extension": ".py",
   "mimetype": "text/x-python",
   "name": "python",
   "nbconvert_exporter": "python",
   "pygments_lexer": "ipython3",
   "version": "3.6.10"
  }
 },
 "nbformat": 4,
 "nbformat_minor": 4
}
